{
 "cells": [
  {
   "cell_type": "code",
   "execution_count": 1,
   "metadata": {},
   "outputs": [],
   "source": [
    "#! wget https://raw.githubusercontent.com/hse-aml/natural-language-processing/master/setup_google_colab.py -O setup_google_colab.py\n",
    "import setup_google_colab\n",
    "# please, uncomment the week you're working on\n",
    "# setup_google_colab.setup_week1()  \n",
    "# setup_google_colab.setup_week2()\n",
    "# setup_google_colab.setup_week3()\n",
    "# setup_google_colab.setup_week4()\n",
    "setup_google_colab.setup_project()\n",
    "# setup_google_colab.setup_honor()"
   ]
  }
 ],
 "metadata": {
  "kernelspec": {
   "display_name": "Python 3",
   "language": "python",
   "name": "python3"
  },
  "language_info": {
   "codemirror_mode": {
    "name": "ipython",
    "version": 3
   },
   "file_extension": ".py",
   "mimetype": "text/x-python",
   "name": "python",
   "nbconvert_exporter": "python",
   "pygments_lexer": "ipython3",
   "version": "3.6.8"
  }
 },
 "nbformat": 4,
 "nbformat_minor": 2
}
