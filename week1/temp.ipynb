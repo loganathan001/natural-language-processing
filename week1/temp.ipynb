{
 "cells": [
  {
   "cell_type": "code",
   "execution_count": 2,
   "metadata": {},
   "outputs": [
    {
     "name": "stdout",
     "output_type": "stream",
     "text": [
      "_oganathan _ekar_ 12abc #xyz my name_ _ am working in __ company\n"
     ]
    }
   ],
   "source": [
    "import re\n",
    "\n",
    "STOPWORDS = ('a','is')\n",
    "REPLACE_BY_SPACE_RE = re.compile('[/(){}\\[\\]\\|@,;]')\n",
    "BAD_SYMBOLS_RE = re.compile('[^0-9\\\\''#+_]')\n",
    "\n",
    "text = 'Loganathan  Sekar,  12abc #xyz is my name. I am working in a      IT company'\n",
    " \n",
    "text = re.sub(REPLACE_BY_SPACE_RE, ' ', text)\n",
    "text = re.sub(BAD_SYMBOLS_RE, '_', text)\n",
    "text = text.lower()\n",
    "text = ' '.join([word for word in text.split() if word not in STOPWORDS])\n",
    "print(text)"
   ]
  }
 ],
 "metadata": {
  "kernelspec": {
   "display_name": "Python 3",
   "language": "python",
   "name": "python3"
  },
  "language_info": {
   "codemirror_mode": {
    "name": "ipython",
    "version": 3
   },
   "file_extension": ".py",
   "mimetype": "text/x-python",
   "name": "python",
   "nbconvert_exporter": "python",
   "pygments_lexer": "ipython3",
   "version": "3.6.8"
  }
 },
 "nbformat": 4,
 "nbformat_minor": 2
}
